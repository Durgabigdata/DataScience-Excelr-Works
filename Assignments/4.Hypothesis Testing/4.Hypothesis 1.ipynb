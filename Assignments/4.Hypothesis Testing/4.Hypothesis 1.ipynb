{
  "nbformat": 4,
  "nbformat_minor": 0,
  "metadata": {
    "colab": {
      "provenance": []
    },
    "kernelspec": {
      "name": "python3",
      "display_name": "Python 3"
    },
    "language_info": {
      "name": "python"
    }
  },
  "cells": [
    {
      "cell_type": "markdown",
      "source": [
        "# Hypothesis testing"
      ],
      "metadata": {
        "id": "Kaa9D7ioiBqg"
      }
    },
    {
      "cell_type": "markdown",
      "source": [
        "### Step-1  :- Hypothesis Statements"
      ],
      "metadata": {
        "id": "U0rQZ4c0iJeF"
      }
    },
    {
      "cell_type": "markdown",
      "source": [
        "Null Hypothesis Ho : The operating cost for a franchise in a week (W) = $1000 + $5X\n",
        "\n",
        "Alternate Hypothesis H1 : The operating cost for a franchise in a week (W) > $1000 + $5X"
      ],
      "metadata": {
        "id": "cAfi-VVPiO8n"
      }
    },
    {
      "cell_type": "markdown",
      "source": [
        "### Step-2 :- Select Test Static"
      ],
      "metadata": {
        "id": "Uc8sHDc3i0Ak"
      }
    },
    {
      "cell_type": "markdown",
      "source": [
        "There are 25 samples.We can go for  t-test for sample size < 30.\n"
      ],
      "metadata": {
        "id": "1bFEmDavjBC0"
      }
    },
    {
      "cell_type": "markdown",
      "source": [
        "t=((sample mean - population mean) / (standard deviation/sqrt(sample size)))"
      ],
      "metadata": {
        "id": "SjHgwE2HjRGL"
      }
    },
    {
      "cell_type": "markdown",
      "source": [
        "Given data,\n",
        "\n",
        "sample mean(x)=3050\n",
        "\n",
        "Population mean (u)= 1000+5x (x=600) = 4000\n",
        "\n",
        "sample size (n) = 25\n",
        "\n",
        "standard deviation = 5*25 = 125\n"
      ],
      "metadata": {
        "id": "W5BJGgcYkDnc"
      }
    },
    {
      "cell_type": "code",
      "source": [
        "import numpy as np\n",
        "Tcal=(3050-4000)/(125/np.sqrt(25))\n",
        "Tcal"
      ],
      "metadata": {
        "colab": {
          "base_uri": "https://localhost:8080/"
        },
        "id": "S4Mf-d6Ol6Ff",
        "outputId": "d9f5977e-86fd-4ffa-ca42-c82832296116"
      },
      "execution_count": 2,
      "outputs": [
        {
          "output_type": "execute_result",
          "data": {
            "text/plain": [
              "-38.0"
            ]
          },
          "metadata": {},
          "execution_count": 2
        }
      ]
    },
    {
      "cell_type": "markdown",
      "source": [
        "It is a one tailed test.So we dont need to take absolute value for t calculated."
      ],
      "metadata": {
        "id": "IjJ2O8uRniN8"
      }
    },
    {
      "cell_type": "markdown",
      "source": [
        "### Step-3 :- Determine Significance Level"
      ],
      "metadata": {
        "id": "-hh2wIz6maXu"
      }
    },
    {
      "cell_type": "markdown",
      "source": [
        "level of significance alpha(a)= 5 % or 0.05.\n",
        "\n",
        "degree of freedom (df) = 25-1= 24"
      ],
      "metadata": {
        "id": "Har5Zq3JmicK"
      }
    },
    {
      "cell_type": "code",
      "source": [
        "import scipy.stats as stats\n",
        "stats.t.ppf(0.975,24)"
      ],
      "metadata": {
        "colab": {
          "base_uri": "https://localhost:8080/"
        },
        "id": "qNYBA08PiF6N",
        "outputId": "49101533-ccdc-415f-c041-4bba34b2ab4a"
      },
      "execution_count": 8,
      "outputs": [
        {
          "output_type": "execute_result",
          "data": {
            "text/plain": [
              "2.0638985616280205"
            ]
          },
          "metadata": {},
          "execution_count": 8
        }
      ]
    },
    {
      "cell_type": "markdown",
      "source": [
        "### Step-4 :- Make decision"
      ],
      "metadata": {
        "id": "fVx83Jqsn67g"
      }
    },
    {
      "cell_type": "markdown",
      "source": [
        "Tcal= -38 is very less value compared to T critical value (2.06).So we are failed to reject null hypothesis statement."
      ],
      "metadata": {
        "id": "Sea_Sap2oAVu"
      }
    },
    {
      "cell_type": "markdown",
      "source": [
        "### Step-5 :- Conclusion"
      ],
      "metadata": {
        "id": "91iv6mtAp2SC"
      }
    },
    {
      "cell_type": "markdown",
      "source": [
        "Based on the T-test ,we don't have any evidence to reject the Null Hypothesis.There is no strong evidence to support the restaurant owners claim that the weekly operating costs are higher than the model suggests."
      ],
      "metadata": {
        "id": "3xmbedA7p8Ur"
      }
    },
    {
      "cell_type": "markdown",
      "source": [],
      "metadata": {
        "id": "QtSQ_0lsoVEa"
      }
    }
  ]
}