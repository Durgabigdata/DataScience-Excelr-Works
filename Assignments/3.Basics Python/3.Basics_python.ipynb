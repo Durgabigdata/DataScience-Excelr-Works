{
  "nbformat": 4,
  "nbformat_minor": 0,
  "metadata": {
    "colab": {
      "provenance": []
    },
    "kernelspec": {
      "name": "python3",
      "display_name": "Python 3"
    },
    "language_info": {
      "name": "python"
    }
  },
  "cells": [
    {
      "cell_type": "markdown",
      "source": [
        "# Prime Number"
      ],
      "metadata": {
        "id": "ZnGB2DNAntn5"
      }
    },
    {
      "cell_type": "code",
      "source": [
        "num = int(input(\"Enter a number: \"))\n",
        "\n",
        "if num == 1:\n",
        "    print(num, \"is not a prime number\")\n",
        "elif num > 1:\n",
        "   for i in range(2,num):\n",
        "       if (num % i) == 0:\n",
        "           print(num,\"is not a prime number\")\n",
        "           break\n",
        "   else:\n",
        "       print(num,\"is a prime number\")\n",
        "else:\n",
        "   print(num,\"is not a prime number\")"
      ],
      "metadata": {
        "colab": {
          "base_uri": "https://localhost:8080/"
        },
        "id": "SMcSJI5On4Xl",
        "outputId": "7d19973c-1637-48e4-ebce-64a0edc8960d"
      },
      "execution_count": 1,
      "outputs": [
        {
          "output_type": "stream",
          "name": "stdout",
          "text": [
            "Enter a number: 2\n",
            "2 is a prime number\n"
          ]
        }
      ]
    },
    {
      "cell_type": "markdown",
      "source": [
        "# Product of Random Numbers"
      ],
      "metadata": {
        "id": "TasDUyQgoxk6"
      }
    },
    {
      "cell_type": "code",
      "source": [
        "import numpy as np\n",
        "a,b=np.random.randint(1,100,2)\n",
        "print(\"Guess the product of these numbers\",a,\"and\",b)\n",
        "prod=a*b\n",
        "guess=int(input(\"Enter Your Guess : \"))\n",
        "if guess==prod:\n",
        "    print(\"Your answer is absolutely correct\")\n",
        "else:\n",
        "    print(\"Your answer is wrong\")"
      ],
      "metadata": {
        "colab": {
          "base_uri": "https://localhost:8080/"
        },
        "id": "7om6fEoKo25d",
        "outputId": "c4cd9d2b-2ef4-4abe-fe6f-8ce16c68de3e"
      },
      "execution_count": 2,
      "outputs": [
        {
          "output_type": "stream",
          "name": "stdout",
          "text": [
            "Guess the product of these numbers 87 and 18\n",
            "Enter Your Guess : 231\n",
            "Your answer is wrong\n"
          ]
        }
      ]
    },
    {
      "cell_type": "markdown",
      "source": [
        "# Square of Even Numbers"
      ],
      "metadata": {
        "id": "vVzhBk-grqqN"
      }
    },
    {
      "cell_type": "code",
      "source": [
        "for even in range(100,201,2):\n",
        "  print(even*even,end=\" \")"
      ],
      "metadata": {
        "colab": {
          "base_uri": "https://localhost:8080/"
        },
        "id": "ny75Y51xrqFA",
        "outputId": "7e395d49-8334-4ba3-a502-84c48bfec502"
      },
      "execution_count": 3,
      "outputs": [
        {
          "output_type": "stream",
          "name": "stdout",
          "text": [
            "10000 10404 10816 11236 11664 12100 12544 12996 13456 13924 14400 14884 15376 15876 16384 16900 17424 17956 18496 19044 19600 20164 20736 21316 21904 22500 23104 23716 24336 24964 25600 26244 26896 27556 28224 28900 29584 30276 30976 31684 32400 33124 33856 34596 35344 36100 36864 37636 38416 39204 40000 "
          ]
        }
      ]
    },
    {
      "cell_type": "markdown",
      "source": [
        "# Word Counter"
      ],
      "metadata": {
        "id": "xvZEhaDQwHFF"
      }
    },
    {
      "cell_type": "code",
      "source": [
        "text=\"I am writing this sentence to check whether the word counting is working or not\"\n",
        "print(len(text.split()))"
      ],
      "metadata": {
        "colab": {
          "base_uri": "https://localhost:8080/"
        },
        "id": "VAej5dCcwLjn",
        "outputId": "58dc51ba-3883-4625-b587-8457d8ac7baf"
      },
      "execution_count": 4,
      "outputs": [
        {
          "output_type": "stream",
          "name": "stdout",
          "text": [
            "15\n"
          ]
        }
      ]
    },
    {
      "cell_type": "markdown",
      "source": [
        "# Check for Palindrome"
      ],
      "metadata": {
        "id": "d10hnozLwefl"
      }
    },
    {
      "cell_type": "code",
      "source": [
        "def isPalindrome(string):\n",
        "    if (string == string[::-1]):\n",
        "      return\"The string is a palindrome.\"\n",
        "    else:\n",
        "      return\"The string is not a palindrome.\"\n",
        "\n",
        "string=input(\"Enter string: \")\n",
        "\n",
        "print(isPalindrome(string))"
      ],
      "metadata": {
        "colab": {
          "base_uri": "https://localhost:8080/"
        },
        "id": "6tcYmBuSwd7K",
        "outputId": "27a055fe-f339-4d8f-8cfc-55a53daa0567"
      },
      "execution_count": 5,
      "outputs": [
        {
          "output_type": "stream",
          "name": "stdout",
          "text": [
            "Enter string: dyrga=====neuiw\n",
            "The string is not a palindrome.\n"
          ]
        }
      ]
    }
  ]
}